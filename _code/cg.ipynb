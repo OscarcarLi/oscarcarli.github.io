{
 "cells": [
  {
   "cell_type": "code",
   "execution_count": 1,
   "metadata": {},
   "outputs": [],
   "source": [
    "from typing import Optional\n",
    "import numpy as np\n",
    "import numpy.typing as npt"
   ]
  },
  {
   "cell_type": "code",
   "execution_count": 2,
   "metadata": {},
   "outputs": [],
   "source": [
    "def cgd(A, b, x0: Optional[npt.NDArray] = None):\n",
    "    \"\"\"Run conjugate gradient descent to solve x in Ax = b.\n",
    "    \"\"\"\n",
    "    dim  = A.shape[0]\n",
    "    if x0 is None:\n",
    "        x = np.zeros(dim)\n",
    "    else:\n",
    "        x = x0\n",
    "    r    = b - A @ x\n",
    "    p    = r\n",
    "    rr   = r @ r\n",
    "    xs   = [x]\n",
    "        \n",
    "    for i in range(1, dim):\n",
    "\n",
    "        # The only matrix-vector multiplication per iteration!\n",
    "        Ap     = A @ p\n",
    "        alpha  = rr / (p @ Ap)\n",
    "        x      = x + alpha * p\n",
    "        r      = r - alpha * Ap\n",
    "        rr_new = r @ r\n",
    "        beta   = rr_new / rr\n",
    "        p      = r + beta * p\n",
    "        rr     = rr_new\n",
    "\n",
    "        xs.append(x)\n",
    "\n",
    "    return np.array(xs)"
   ]
  },
  {
   "cell_type": "code",
   "execution_count": 3,
   "metadata": {},
   "outputs": [],
   "source": [
    "def generate_positive_definite_matrix(n):\n",
    "    \"\"\"\n",
    "    Generates a random positive definite symmetric matrix using eigen decomposition.\n",
    "    \"\"\"\n",
    "    # Step 1: Generate a random orthogonal matrix via QR decomposition\n",
    "    Q, _ = np.linalg.qr(np.random.randn(n, n))\n",
    "    \n",
    "    # Step 2: Create a diagonal matrix with positive entries (eigenvalues)\n",
    "    eigenvalues = np.random.uniform(low=0.1, high=10.0, size=n)\n",
    "    D = np.diag(eigenvalues)\n",
    "    \n",
    "    # Step 3: Construct the positive definite matrix\n",
    "    pd_matrix = Q @ D @ Q.T\n",
    "    \n",
    "    return pd_matrix"
   ]
  },
  {
   "cell_type": "markdown",
   "metadata": {},
   "source": [
    "### Generate example positive definite matrix `A` and vector `b`."
   ]
  },
  {
   "cell_type": "code",
   "execution_count": 4,
   "metadata": {},
   "outputs": [
    {
     "name": "stdout",
     "output_type": "stream",
     "text": [
      "Eigenvalues:\n",
      " [0.28601902 9.44310598 6.15974765 6.20764657 6.21459142]\n",
      "Is the matrix positive definite? True\n"
     ]
    }
   ],
   "source": [
    "np.random.seed(0)\n",
    "dim = 5\n",
    "A = generate_positive_definite_matrix(dim)\n",
    "# Eigenvalues of the matrix\n",
    "eigenvalues = np.linalg.eigvals(A)\n",
    "\n",
    "print(\"Eigenvalues:\\n\", eigenvalues)\n",
    "print(\"Is the matrix positive definite?\", np.all(eigenvalues > 0))\n",
    "\n",
    "b = np.random.randn(dim)"
   ]
  },
  {
   "cell_type": "code",
   "execution_count": 5,
   "metadata": {},
   "outputs": [
    {
     "name": "stdout",
     "output_type": "stream",
     "text": [
      "[ 0.17015063 -0.35800967  0.27814836  0.32822873 -0.69968513]\n",
      "[ 0.17015524 -0.35800289  0.27814979  0.32823596 -0.69968351]\n"
     ]
    }
   ],
   "source": [
    "A_inv = np.linalg.inv(A)\n",
    "x_true = A_inv @ b\n",
    "print(x_true)\n",
    "print(cgd(A, b)[-1])"
   ]
  },
  {
   "cell_type": "code",
   "execution_count": 19,
   "metadata": {},
   "outputs": [],
   "source": [
    "def naive_cgd(A, b, x0: Optional[npt.NDArray] = None):\n",
    "    dim = A.shape[0]\n",
    "    xs = []\n",
    "    rs = []\n",
    "    if x0 is None:\n",
    "        x = np.zeros(dim)\n",
    "    else:\n",
    "        x = x0\n",
    "    for i in range(1, dim + 1):\n",
    "        r = b - A @ x\n",
    "        rs.append(r)\n",
    "        if i == 1:\n",
    "            p = r\n",
    "            P = np.reshape(p, (dim, 1))\n",
    "        else:\n",
    "            AP = A @ P  # (n, n)\n",
    "            rTAP = AP.T @ r  # (1, d)\n",
    "            pTAp_all = np.multiply(P, AP).sum(axis=0)  # (d,)\n",
    "            alphas = np.divide(rTAP, pTAp_all)\n",
    "            print(alphas)\n",
    "            p = r - P @ alphas  # (n,)\n",
    "            P = np.concatenate((P, np.reshape(p, (dim, 1))), axis=1)\n",
    "        x = x + np.dot(r, p) / np.dot(p, A @ p) * p\n",
    "        xs.append(x)\n",
    "\n",
    "    return np.array(xs), np.array(rs), P.T\n"
   ]
  },
  {
   "cell_type": "code",
   "execution_count": 20,
   "metadata": {},
   "outputs": [
    {
     "name": "stdout",
     "output_type": "stream",
     "text": [
      "[-0.03471906]\n",
      "[-6.13068816e-17 -1.68992559e-01]\n",
      "[-8.38329697e-17 -6.45662577e-16 -8.45218913e-02]\n",
      "[ 3.00617568e-17 -1.42616890e-15  7.81032247e-16 -1.10411775e-06]\n"
     ]
    }
   ],
   "source": [
    "xs, rs, P = naive_cgd(A, b)"
   ]
  },
  {
   "cell_type": "code",
   "execution_count": 21,
   "metadata": {},
   "outputs": [
    {
     "data": {
      "text/plain": [
       "array([ 0.17015063, -0.35800967,  0.27814836,  0.32822873, -0.69968513])"
      ]
     },
     "execution_count": 21,
     "metadata": {},
     "output_type": "execute_result"
    }
   ],
   "source": [
    "xs[-1]"
   ]
  },
  {
   "cell_type": "code",
   "execution_count": 23,
   "metadata": {},
   "outputs": [
    {
     "data": {
      "text/plain": [
       "array([[ 8.74465495e+00, -8.32667268e-16, -5.55111512e-16,\n",
       "        -9.57567359e-16, -1.04605181e-16],\n",
       "       [-8.32667268e-16,  3.03606201e-01, -6.93889390e-17,\n",
       "        -2.32019265e-16, -3.67470209e-16],\n",
       "       [-5.55111512e-16, -6.93889390e-17,  5.13071889e-02,\n",
       "        -1.90819582e-17,  6.55283746e-17],\n",
       "       [-9.57567359e-16, -2.32019265e-16, -1.90819582e-17,\n",
       "         4.33658064e-03,  2.54366112e-17],\n",
       "       [-1.04605181e-16, -3.67470209e-16,  6.55283746e-17,\n",
       "         2.54366112e-17,  4.78809568e-09]])"
      ]
     },
     "execution_count": 23,
     "metadata": {},
     "output_type": "execute_result"
    }
   ],
   "source": [
    "rs @ rs.T"
   ]
  },
  {
   "cell_type": "code",
   "execution_count": 24,
   "metadata": {},
   "outputs": [
    {
     "data": {
      "text/plain": [
       "array([[ 5.79496720e+01, -8.81875175e-16, -1.42530681e-16,\n",
       "        -1.82705279e-16,  1.13203712e-19],\n",
       "       [-1.47002111e-16,  2.26760333e+00,  8.33424257e-17,\n",
       "        -8.78790840e-19, -2.10528647e-20],\n",
       "       [ 1.30484168e-16,  5.39873547e-17,  1.74360525e-02,\n",
       "        -9.25555829e-18,  7.31801390e-21],\n",
       "       [-9.29450886e-17,  3.07234444e-17, -2.51495096e-18,\n",
       "         2.66377675e-02,  2.90959839e-21],\n",
       "       [-2.71050543e-20, -3.38813179e-21,  1.69406589e-21,\n",
       "         1.69406589e-21,  2.97433574e-08]])"
      ]
     },
     "execution_count": 24,
     "metadata": {},
     "output_type": "execute_result"
    }
   ],
   "source": [
    "P @ A @ P.T"
   ]
  },
  {
   "cell_type": "code",
   "execution_count": null,
   "metadata": {},
   "outputs": [],
   "source": []
  }
 ],
 "metadata": {
  "kernelspec": {
   "display_name": "pyinterview",
   "language": "python",
   "name": "python3"
  },
  "language_info": {
   "codemirror_mode": {
    "name": "ipython",
    "version": 3
   },
   "file_extension": ".py",
   "mimetype": "text/x-python",
   "name": "python",
   "nbconvert_exporter": "python",
   "pygments_lexer": "ipython3",
   "version": "3.11.9"
  }
 },
 "nbformat": 4,
 "nbformat_minor": 2
}
